{
 "cells": [
  {
   "cell_type": "markdown",
   "metadata": {},
   "source": [
    "## Test the law of large numbers \n",
    "We would like to test the Law of Large numbers for N random normally distributed numbers with mean = 0, stdev = 1\n",
    "* Create a python script to count how many numbers fall between -1 and 1 and divide by the total quantity of N\n",
    "* E(x) = 68.2%\n",
    "* Check that the Mean(X_n) --> E(x) as you increase N"
   ]
  },
  {
   "cell_type": "code",
   "execution_count": 3,
   "metadata": {},
   "outputs": [],
   "source": [
    "import numpy as np \n",
    "from numpy.random import randn"
   ]
  },
  {
   "cell_type": "code",
   "execution_count": 76,
   "metadata": {},
   "outputs": [
    {
     "name": "stdout",
     "output_type": "stream",
     "text": [
      "Done!\n",
      "68.2914 %\n"
     ]
    }
   ],
   "source": [
    "N = 10000\n",
    "num = randn(N)\n",
    "a,b = 0,0\n",
    "\n",
    "\n",
    "for n in num:\n",
    "    if n <= 1 and n >= -1:\n",
    "        a += 1\n",
    "              \n",
    "print(100*(a/N),'%')        "
   ]
  },
  {
   "cell_type": "code",
   "execution_count": 85,
   "metadata": {},
   "outputs": [
    {
     "name": "stdout",
     "output_type": "stream",
     "text": [
      "[20, 21, 22, 23, 24, 25, 26, 27, 28, 29]\n"
     ]
    }
   ],
   "source": [
    "g = list(range(20,30))\n",
    "print(g)"
   ]
  },
  {
   "cell_type": "code",
   "execution_count": null,
   "metadata": {},
   "outputs": [],
   "source": []
  }
 ],
 "metadata": {
  "kernelspec": {
   "display_name": "Python 3",
   "language": "python",
   "name": "python3"
  },
  "language_info": {
   "codemirror_mode": {
    "name": "ipython",
    "version": 3
   },
   "file_extension": ".py",
   "mimetype": "text/x-python",
   "name": "python",
   "nbconvert_exporter": "python",
   "pygments_lexer": "ipython3",
   "version": "3.7.0"
  }
 },
 "nbformat": 4,
 "nbformat_minor": 2
}
